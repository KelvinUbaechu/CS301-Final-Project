{
 "cells": [
  {
   "cell_type": "code",
   "execution_count": 1,
   "id": "b6257494",
   "metadata": {},
   "outputs": [],
   "source": [
    "import numpy as np\n",
    "import pandas as pd"
   ]
  },
  {
   "cell_type": "code",
   "execution_count": 4,
   "id": "3f4fd034",
   "metadata": {},
   "outputs": [],
   "source": [
    "# Data cleaning\n",
    "data = pd.read_csv('leading_retailers_2021.csv', encoding='latin-1')"
   ]
  },
  {
   "cell_type": "code",
   "execution_count": 8,
   "id": "22c5c267",
   "metadata": {
    "scrolled": false
   },
   "outputs": [
    {
     "data": {
      "text/plain": [
       "Rank                                     0\n",
       "Name of Company                          0\n",
       "Location                                 0\n",
       "FY2021_retail_revenue                    0\n",
       "FY2021_parent_company/ group revenue     0\n",
       "Dominant_operational_format              0\n",
       "Geographies_of_operation                 0\n",
       "FY2016- 2021_retail_revenueCAGR3         2\n",
       "FY2020-2021_retail_revenue_growth        2\n",
       "FY2021_Net_profit_margin                42\n",
       "dtype: int64"
      ]
     },
     "execution_count": 8,
     "metadata": {},
     "output_type": "execute_result"
    }
   ],
   "source": [
    "data.isna().sum()"
   ]
  }
 ],
 "metadata": {
  "kernelspec": {
   "display_name": "Python 3 (ipykernel)",
   "language": "python",
   "name": "python3"
  },
  "language_info": {
   "codemirror_mode": {
    "name": "ipython",
    "version": 3
   },
   "file_extension": ".py",
   "mimetype": "text/x-python",
   "name": "python",
   "nbconvert_exporter": "python",
   "pygments_lexer": "ipython3",
   "version": "3.9.13"
  }
 },
 "nbformat": 4,
 "nbformat_minor": 5
}
