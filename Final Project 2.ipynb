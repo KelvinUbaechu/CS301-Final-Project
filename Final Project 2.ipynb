{
 "cells": [
  {
   "cell_type": "code",
   "execution_count": 1,
   "metadata": {},
   "outputs": [],
   "source": [
    "import numpy as np\n",
    "import pandas as pd\n",
    "\n",
    "RANDOM_STATE = 0"
   ]
  },
  {
   "attachments": {},
   "cell_type": "markdown",
   "metadata": {},
   "source": [
    "Data Cleaning"
   ]
  },
  {
   "cell_type": "code",
   "execution_count": 2,
   "metadata": {},
   "outputs": [],
   "source": [
    "data = pd.read_csv('leading_retailers_2021.csv', encoding='latin-1')\n",
    "\n",
    "# Converts columns from strings to integers\n",
    "int_cols = ['FY2021_retail_revenue', 'FY2021_parent_company/ group revenue', 'Geographies_of_operation']\n",
    "data[int_cols] = data[int_cols].replace(',', '', regex=True).apply(pd.to_numeric, errors='coerce')\n",
    "\n",
    "# Converts percentage strings to floats\n",
    "float_cols = ['FY2016- 2021_retail_revenueCAGR3', 'FY2020-2021_retail_revenue_growth', 'FY2021_Net_profit_margin']\n",
    "data[float_cols] = data[float_cols].replace('%', '', regex=True).apply(pd.to_numeric, errors='coerce') / 100.0\n",
    "\n",
    "# Strip whitespace from strings\n",
    "str_cols = ['Location', 'Dominant_operational_format']\n",
    "data[str_cols] = data[str_cols].apply(lambda x: x.str.strip())"
   ]
  },
  {
   "cell_type": "code",
   "execution_count": 3,
   "metadata": {},
   "outputs": [],
   "source": [
    "x = data.iloc[:, [2, 4, 5, 6, 7, 8, 9]].values\n",
    "\n",
    "# Dominant operational format column\n",
    "y = data.iloc[:, 3].values"
   ]
  },
  {
   "cell_type": "code",
   "execution_count": 26,
   "metadata": {},
   "outputs": [
    {
     "data": {
      "text/plain": [
       "14"
      ]
     },
     "execution_count": 26,
     "metadata": {},
     "output_type": "execute_result"
    }
   ],
   "source": [
    "len(data['Dominant_operational_format'].unique())"
   ]
  },
  {
   "cell_type": "code",
   "execution_count": 14,
   "metadata": {},
   "outputs": [],
   "source": [
    "from sklearn.impute import SimpleImputer\n",
    "imputer = SimpleImputer(missing_values=np.nan, strategy='mean')\n",
    "x[:, [1, 3, 4, 5, 6]] = imputer.fit_transform(x[:, [1, 3, 4, 5, 6]])"
   ]
  },
  {
   "cell_type": "code",
   "execution_count": 22,
   "metadata": {},
   "outputs": [
    {
     "data": {
      "text/plain": [
       "array([['United States', 572754.0, 'Hypermarket/ supercenter', ...,\n",
       "        0.033, 0.024, 0.024],\n",
       "       ['United States', 469822.0, 'Non-store', ..., 0.204, 0.12, 0.071],\n",
       "       ['United States', 195929.0, 'Cash & carry/ warehouse club', ...,\n",
       "        0.105, 0.175, 0.026000000000000002],\n",
       "       ...,\n",
       "       ['Japan', 4889.0, 'Discount department store', ..., 0.055,\n",
       "        0.044000000000000004, 0.04248947368421053],\n",
       "       ['Israel', 4561.0, 'Discount store', ..., 0.046, -0.031,\n",
       "        0.027000000000000003],\n",
       "       ['United Kingdom', 4478.0, 'Other specialty', ..., 0.158, 0.196,\n",
       "        0.095]], dtype=object)"
      ]
     },
     "execution_count": 22,
     "metadata": {},
     "output_type": "execute_result"
    }
   ],
   "source": [
    "x"
   ]
  },
  {
   "cell_type": "code",
   "execution_count": 21,
   "metadata": {},
   "outputs": [
    {
     "data": {
      "text/plain": [
       "array([0.024, 0.071, 0.026000000000000002, 0.04248947368421053, 0.109],\n",
       "      dtype=object)"
      ]
     },
     "execution_count": 21,
     "metadata": {},
     "output_type": "execute_result"
    }
   ],
   "source": [
    "from sklearn.compose import ColumnTransformer\n",
    "from sklearn.preprocessing import OneHotEncoder\n",
    "\n",
    "ct = ColumnTransformer(transformers=[('encoder', OneHotEncoder(), [0, 2])], remainder='passthrough')\n",
    "x = ct.fit_transform(x).toarray()  # Encodes Location Column into 40 separate columns and the Dominant Operational Format into 14"
   ]
  },
  {
   "cell_type": "code",
   "execution_count": null,
   "metadata": {},
   "outputs": [],
   "source": []
  }
 ],
 "metadata": {
  "kernelspec": {
   "display_name": "base",
   "language": "python",
   "name": "python3"
  },
  "language_info": {
   "codemirror_mode": {
    "name": "ipython",
    "version": 3
   },
   "file_extension": ".py",
   "mimetype": "text/x-python",
   "name": "python",
   "nbconvert_exporter": "python",
   "pygments_lexer": "ipython3",
   "version": "3.9.13"
  },
  "orig_nbformat": 4
 },
 "nbformat": 4,
 "nbformat_minor": 2
}
