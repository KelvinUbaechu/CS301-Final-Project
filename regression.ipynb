{
 "cells": [
  {
   "cell_type": "code",
   "execution_count": 1,
   "metadata": {},
   "outputs": [],
   "source": [
    "import numpy as np\n",
    "import pandas as pd\n",
    "\n",
    "RANDOM_STATE = 0\n",
    "\n",
    "np.set_printoptions(precision=2)"
   ]
  },
  {
   "attachments": {},
   "cell_type": "markdown",
   "metadata": {},
   "source": [
    "Data Cleaning"
   ]
  },
  {
   "cell_type": "code",
   "execution_count": 2,
   "metadata": {},
   "outputs": [],
   "source": [
    "data = pd.read_csv('output_file.csv', encoding='latin-1')\n",
    "\n",
    "# Converts columns from strings to integers\n",
    "int_cols = ['FY2021_retail_revenue', 'FY2021_parent_company/ group revenue', 'Geographies_of_operation']\n",
    "data[int_cols] = data[int_cols].replace(',', '', regex=True).apply(pd.to_numeric, errors='coerce')\n",
    "\n",
    "# Converts percentage strings to floats\n",
    "float_cols = ['FY2016- 2021_retail_revenueCAGR3', 'FY2020-2021_retail_revenue_growth', 'FY2021_Net_profit_margin']\n",
    "data[float_cols] = data[float_cols].replace('%', '', regex=True).apply(pd.to_numeric, errors='coerce') / 100.0\n",
    "\n",
    "# Strip whitespace from strings\n",
    "str_cols = ['Location', 'Dominant_operational_format']\n",
    "data[str_cols] = data[str_cols].apply(lambda x: x.str.strip())"
   ]
  },
  {
   "cell_type": "code",
   "execution_count": null,
   "metadata": {},
   "outputs": [],
   "source": [
    "data"
   ]
  },
  {
   "cell_type": "code",
   "execution_count": 3,
   "metadata": {},
   "outputs": [],
   "source": [
    "# All columns except Rank, Name of Company, and FY2021_retail_revenue\n",
    "x = data.iloc[:, [2, 4, 5, 6, 7, 8, 9]].values\n",
    "\n",
    "# FY2021_retail_revenue column\n",
    "y = data.iloc[:, 3].values"
   ]
  },
  {
   "cell_type": "code",
   "execution_count": 4,
   "metadata": {},
   "outputs": [],
   "source": [
    "from sklearn.impute import SimpleImputer\n",
    "imputer = SimpleImputer(missing_values=np.nan, strategy='mean')\n",
    "# Apply imputer to all features except Location and Geographies of Operation\n",
    "x[:, [1, 3, 4, 5, 6]] = imputer.fit_transform(x[:, [1, 3, 4, 5, 6]])"
   ]
  },
  {
   "cell_type": "code",
   "execution_count": 5,
   "metadata": {},
   "outputs": [],
   "source": [
    "from sklearn.compose import ColumnTransformer\n",
    "from sklearn.preprocessing import OneHotEncoder\n",
    "\n",
    "# Will encode the Location Column into 40 separate columns and the Dominant Operational Format into 14\n",
    "ct = ColumnTransformer(transformers=[('encoder', OneHotEncoder(), [0, 2])], remainder='passthrough')\n",
    "x = ct.fit_transform(x).toarray()"
   ]
  },
  {
   "cell_type": "code",
   "execution_count": 6,
   "metadata": {},
   "outputs": [],
   "source": [
    "from sklearn.model_selection import train_test_split\n",
    "x_train, x_test, y_train, y_test = train_test_split(x, y, test_size=0.2, random_state=RANDOM_STATE)"
   ]
  },
  {
   "cell_type": "code",
   "execution_count": 7,
   "metadata": {},
   "outputs": [],
   "source": [
    "from sklearn.preprocessing import StandardScaler\n",
    "scaler = StandardScaler()\n",
    "\n",
    "x_train = scaler.fit_transform(x_train)\n",
    "x_test = scaler.transform(x_test)"
   ]
  },
  {
   "cell_type": "code",
   "execution_count": 8,
   "metadata": {},
   "outputs": [
    {
     "data": {
      "text/plain": [
       "DecisionTreeRegressor(min_samples_split=20, random_state=0)"
      ]
     },
     "execution_count": 8,
     "metadata": {},
     "output_type": "execute_result"
    }
   ],
   "source": [
    "from sklearn.tree import DecisionTreeRegressor\n",
    "dtr = DecisionTreeRegressor(min_samples_split=20, random_state=RANDOM_STATE)\n",
    "dtr.fit(x_train, y_train)"
   ]
  },
  {
   "cell_type": "code",
   "execution_count": 9,
   "metadata": {},
   "outputs": [
    {
     "name": "stdout",
     "output_type": "stream",
     "text": [
      "[[  5385.21052632   5233.        ]\n",
      " [ 10433.33333333   9509.        ]\n",
      " [ 13640.5         13242.        ]\n",
      " [  8238.83333333   7650.        ]\n",
      " [  8238.83333333   7757.        ]\n",
      " [  8238.83333333   7372.        ]\n",
      " [  6077.77777778   6151.        ]\n",
      " [ 13640.5         14500.        ]\n",
      " [ 19880.38888889  18089.        ]\n",
      " [ 10433.33333333   7718.        ]\n",
      " [  6077.77777778   5436.        ]\n",
      " [  5385.21052632   5150.        ]\n",
      " [ 10433.33333333  11200.        ]\n",
      " [  6077.77777778   6426.        ]\n",
      " [ 10433.33333333  10039.        ]\n",
      " [ 15726.54545455  16488.        ]\n",
      " [  6077.77777778   5983.        ]\n",
      " [  7542.75         8204.        ]\n",
      " [  8238.83333333   7859.        ]\n",
      " [ 11793.85714286  12731.        ]\n",
      " [  8238.83333333   7664.        ]\n",
      " [ 19880.38888889  24793.        ]\n",
      " [  4732.85714286   4916.        ]\n",
      " [ 10433.33333333  10700.        ]\n",
      " [  8238.83333333   7882.        ]\n",
      " [ 13640.5         13593.        ]\n",
      " [101811.66666667 120947.        ]\n",
      " [ 19880.38888889  21000.        ]\n",
      " [  6077.77777778   6298.        ]\n",
      " [ 32022.47058824  30035.        ]\n",
      " [  6077.77777778   5942.        ]\n",
      " [ 13640.5         14979.        ]\n",
      " [ 10433.33333333  10986.        ]\n",
      " [  6672.33333333   6773.        ]\n",
      " [  6672.33333333   7203.        ]\n",
      " [  7542.75         8500.        ]\n",
      " [  8238.83333333   8891.        ]\n",
      " [101811.66666667 136971.        ]\n",
      " [ 43244.83333333  48550.        ]\n",
      " [  8983.25         9242.        ]\n",
      " [ 10433.33333333   9690.        ]\n",
      " [101811.66666667  89381.        ]\n",
      " [ 19880.38888889  11217.        ]\n",
      " [  6672.33333333   6694.        ]\n",
      " [ 13640.5         13708.        ]\n",
      " [ 11793.85714286  12709.        ]\n",
      " [  8238.83333333   7313.        ]\n",
      " [ 19880.38888889  25527.        ]\n",
      " [ 15726.54545455  17637.        ]\n",
      " [  6672.33333333   6581.        ]]\n"
     ]
    }
   ],
   "source": [
    "dtr_y_pred = dtr.predict(x_test)\n",
    "print(np.concatenate((dtr_y_pred.reshape(len(dtr_y_pred), 1), y_test.reshape(len(dtr_y_pred), 1)), 1))"
   ]
  },
  {
   "cell_type": "code",
   "execution_count": 10,
   "metadata": {},
   "outputs": [
    {
     "data": {
      "text/plain": [
       "RandomForestRegressor(random_state=0)"
      ]
     },
     "execution_count": 10,
     "metadata": {},
     "output_type": "execute_result"
    }
   ],
   "source": [
    "from sklearn.ensemble import RandomForestRegressor\n",
    "\n",
    "rfr = RandomForestRegressor(random_state=RANDOM_STATE)\n",
    "rfr.fit(x_train, y_train)"
   ]
  },
  {
   "cell_type": "code",
   "execution_count": 11,
   "metadata": {},
   "outputs": [
    {
     "name": "stdout",
     "output_type": "stream",
     "text": [
      "[[  5243.73   5233.  ]\n",
      " [  9273.88   9509.  ]\n",
      " [ 13688.82  13242.  ]\n",
      " [  7336.17   7650.  ]\n",
      " [  7844.79   7757.  ]\n",
      " [  8098.6    7372.  ]\n",
      " [  5950.1    6151.  ]\n",
      " [ 14406.48  14500.  ]\n",
      " [ 19272.76  18089.  ]\n",
      " [ 10728.76   7718.  ]\n",
      " [  6314.36   5436.  ]\n",
      " [  5300.42   5150.  ]\n",
      " [ 11017.99  11200.  ]\n",
      " [  6342.86   6426.  ]\n",
      " [ 10145.81  10039.  ]\n",
      " [ 16821.74  16488.  ]\n",
      " [  6355.76   5983.  ]\n",
      " [  8475.71   8204.  ]\n",
      " [  7924.97   7859.  ]\n",
      " [ 12311.85  12731.  ]\n",
      " [  7764.09   7664.  ]\n",
      " [ 19408.2   24793.  ]\n",
      " [  4974.     4916.  ]\n",
      " [ 10289.06  10700.  ]\n",
      " [  7624.77   7882.  ]\n",
      " [ 12481.23  13593.  ]\n",
      " [110570.49 120947.  ]\n",
      " [ 19187.44  21000.  ]\n",
      " [  6388.38   6298.  ]\n",
      " [ 28829.43  30035.  ]\n",
      " [  5902.82   5942.  ]\n",
      " [ 14319.88  14979.  ]\n",
      " [ 10247.5   10986.  ]\n",
      " [  6580.9    6773.  ]\n",
      " [  7028.66   7203.  ]\n",
      " [  7978.8    8500.  ]\n",
      " [  8655.35   8891.  ]\n",
      " [101011.71 136971.  ]\n",
      " [ 43639.72  48550.  ]\n",
      " [  9025.77   9242.  ]\n",
      " [  9946.11   9690.  ]\n",
      " [ 80277.7   89381.  ]\n",
      " [ 18894.52  11217.  ]\n",
      " [  6581.37   6694.  ]\n",
      " [ 12811.6   13708.  ]\n",
      " [ 11887.3   12709.  ]\n",
      " [  8015.32   7313.  ]\n",
      " [ 18456.94  25527.  ]\n",
      " [ 17405.36  17637.  ]\n",
      " [  6424.12   6581.  ]]\n"
     ]
    }
   ],
   "source": [
    "rfr_y_pred = rfr.predict(x_test)\n",
    "print(np.concatenate((rfr_y_pred.reshape(len(rfr_y_pred), 1), y_test.reshape(len(rfr_y_pred), 1)), 1))"
   ]
  },
  {
   "cell_type": "code",
   "execution_count": null,
   "metadata": {},
   "outputs": [],
   "source": [
    "from sklearn.linear_model import LinearRegression\n",
    "lr = LinearRegression()\n",
    "lr.fit(x_train, y_train)"
   ]
  },
  {
   "cell_type": "code",
   "execution_count": null,
   "metadata": {},
   "outputs": [],
   "source": [
    "lr_y_pred = lr.predict(x_test)\n",
    "print(np.concatenate((lr_y_pred.reshape(len(lr_y_pred), 1), y_test.reshape(len(lr_y_pred), 1)), 1))"
   ]
  },
  {
   "attachments": {},
   "cell_type": "markdown",
   "metadata": {},
   "source": [
    "Metrics"
   ]
  },
  {
   "cell_type": "code",
   "execution_count": 12,
   "metadata": {},
   "outputs": [],
   "source": [
    "from sklearn.metrics import r2_score, mean_squared_error"
   ]
  },
  {
   "cell_type": "code",
   "execution_count": 13,
   "metadata": {},
   "outputs": [
    {
     "name": "stdout",
     "output_type": "stream",
     "text": [
      "r^2: 0.9437406236715923; sum of squared residuals: 38973886.77177612\n"
     ]
    }
   ],
   "source": [
    "# Decision Tree Regression Metrics\n",
    "\n",
    "dtr_r_squared = r2_score(y_test, dtr_y_pred)\n",
    "dtr_mean_squared_error = mean_squared_error(y_test, dtr_y_pred)\n",
    "\n",
    "print(f'r^2: {dtr_r_squared}; sum of squared residuals: {dtr_mean_squared_error}')"
   ]
  },
  {
   "cell_type": "code",
   "execution_count": 14,
   "metadata": {},
   "outputs": [
    {
     "name": "stdout",
     "output_type": "stream",
     "text": [
      "r^2: 0.9518389785358993; sum of squared residuals: 33363722.10025999\n"
     ]
    }
   ],
   "source": [
    "# Random Forest Regressor\n",
    "\n",
    "rfr_r_squared = r2_score(y_test, rfr_y_pred)\n",
    "rfr_mean_squared_error = mean_squared_error(y_test, rfr_y_pred)\n",
    "\n",
    "print(f'r^2: {rfr_r_squared}; sum of squared residuals: {rfr_mean_squared_error}')"
   ]
  },
  {
   "cell_type": "code",
   "execution_count": null,
   "metadata": {},
   "outputs": [],
   "source": [
    "lr_r_squared = r2_score(y_test, lr_y_pred)\n",
    "lr_mean_squared_error = mean_squared_error(y_test, lr_y_pred)\n",
    "\n",
    "print(f'r^2: {lr_r_squared}; sum of squared residuals: {lr_mean_squared_error}')"
   ]
  }
 ],
 "metadata": {
  "kernelspec": {
   "display_name": "base",
   "language": "python",
   "name": "python3"
  },
  "language_info": {
   "codemirror_mode": {
    "name": "ipython",
    "version": 3
   },
   "file_extension": ".py",
   "mimetype": "text/x-python",
   "name": "python",
   "nbconvert_exporter": "python",
   "pygments_lexer": "ipython3",
   "version": "3.9.13"
  },
  "orig_nbformat": 4
 },
 "nbformat": 4,
 "nbformat_minor": 2
}
