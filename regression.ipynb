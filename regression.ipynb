{
 "cells": [
  {
   "cell_type": "code",
   "execution_count": 1,
   "metadata": {},
   "outputs": [],
   "source": [
    "import numpy as np\n",
    "import pandas as pd\n",
    "\n",
    "RANDOM_STATE = 0\n",
    "\n",
    "np.set_printoptions(precision=2)"
   ]
  },
  {
   "attachments": {},
   "cell_type": "markdown",
   "metadata": {},
   "source": [
    "Data Cleaning and Preprocessing"
   ]
  },
  {
   "cell_type": "code",
   "execution_count": 2,
   "metadata": {},
   "outputs": [],
   "source": [
    "data = pd.read_csv('output_file.csv', encoding='latin-1')\n",
    "\n",
    "# Converts columns from strings to integers\n",
    "int_cols = ['FY2021_retail_revenue', 'FY2021_parent_company/ group revenue', 'Geographies_of_operation']\n",
    "data[int_cols] = data[int_cols].replace(',', '', regex=True).apply(pd.to_numeric, errors='coerce')\n",
    "\n",
    "# Converts percentage strings to floats\n",
    "float_cols = ['FY2016- 2021_retail_revenueCAGR3', 'FY2020-2021_retail_revenue_growth', 'FY2021_Net_profit_margin']\n",
    "data[float_cols] = data[float_cols].replace('%', '', regex=True).apply(pd.to_numeric, errors='coerce') / 100.0\n",
    "\n",
    "# Strip whitespace from strings\n",
    "str_cols = ['Location', 'Dominant_operational_format']\n",
    "data[str_cols] = data[str_cols].apply(lambda x: x.str.strip())"
   ]
  },
  {
   "cell_type": "code",
   "execution_count": null,
   "metadata": {},
   "outputs": [],
   "source": [
    "data"
   ]
  },
  {
   "cell_type": "code",
   "execution_count": 3,
   "metadata": {},
   "outputs": [],
   "source": [
    "# All columns except Rank, Name of Company, and FY2021_retail_revenue\n",
    "x = data.iloc[:, [2, 4, 5, 6, 7, 8, 9]].values\n",
    "\n",
    "# All columns in `x` except for Location and Dominant_operational_format\n",
    "# (No categorical data)\n",
    "no_cat_x = data.iloc[:, [4, 6, 7, 8, 9]].values\n",
    "\n",
    "# FY2021_retail_revenue column\n",
    "y = data.iloc[:, 3].values"
   ]
  },
  {
   "attachments": {},
   "cell_type": "markdown",
   "metadata": {},
   "source": [
    "Filling in Missing Data"
   ]
  },
  {
   "cell_type": "code",
   "execution_count": 5,
   "metadata": {},
   "outputs": [],
   "source": [
    "from sklearn.impute import SimpleImputer\n",
    "\n",
    "imputer = SimpleImputer(missing_values=np.nan, strategy='mean')\n",
    "# Apply imputer to all features except Location and Geographies of Operation\n",
    "x[:, [1, 3, 4, 5, 6]] = imputer.fit_transform(x[:, [1, 3, 4, 5, 6]])\n",
    "\n",
    "# All features can have a mean because there are no categorical variables in `no_cat_x`\n",
    "no_cat_x = imputer.fit_transform(no_cat_x)"
   ]
  },
  {
   "attachments": {},
   "cell_type": "markdown",
   "metadata": {},
   "source": [
    "Encode the Categorical Variables"
   ]
  },
  {
   "cell_type": "code",
   "execution_count": 6,
   "metadata": {},
   "outputs": [],
   "source": [
    "from sklearn.compose import ColumnTransformer\n",
    "from sklearn.preprocessing import OneHotEncoder\n",
    "\n",
    "# Will encode the Location Column into 40 separate columns and the Dominant Operational Format into 14\n",
    "ct = ColumnTransformer(transformers=[('encoder', OneHotEncoder(), [0, 2])], remainder='passthrough')\n",
    "x = ct.fit_transform(x).toarray()\n",
    "\n",
    "# `no_cat_x` doesn't need to go through this step because it has no categorical variables"
   ]
  },
  {
   "cell_type": "code",
   "execution_count": 7,
   "metadata": {},
   "outputs": [],
   "source": [
    "from sklearn.model_selection import train_test_split\n",
    "x_train, x_test, y_train, y_test = train_test_split(x, y, test_size=0.2, random_state=RANDOM_STATE)\n",
    "\n",
    "# `y` is shared between `x` and `no_cat_x`, but their testing sets are different, so `no_cat_x`\n",
    "# will have a seperate `y_train` and `y_test`\n",
    "no_cat_x_train, no_cat_x_test, no_cat_y_train, no_cat_y_test = train_test_split(no_cat_x, y, test_size=0.2, random_state=RANDOM_STATE)"
   ]
  },
  {
   "cell_type": "code",
   "execution_count": 8,
   "metadata": {},
   "outputs": [],
   "source": [
    "from sklearn.preprocessing import StandardScaler\n",
    "scaler = StandardScaler()\n",
    "\n",
    "x_train = scaler.fit_transform(x_train)\n",
    "x_test = scaler.transform(x_test)\n",
    "\n",
    "no_cat_x_train = scaler.fit_transform(no_cat_x_train)\n",
    "no_cat_x_test = scaler.transform(no_cat_x_test)"
   ]
  },
  {
   "attachments": {},
   "cell_type": "markdown",
   "metadata": {},
   "source": [
    "Decision Tree Regression"
   ]
  },
  {
   "cell_type": "code",
   "execution_count": 9,
   "metadata": {},
   "outputs": [
    {
     "data": {
      "text/plain": [
       "DecisionTreeRegressor(min_samples_split=20, random_state=0)"
      ]
     },
     "execution_count": 9,
     "metadata": {},
     "output_type": "execute_result"
    }
   ],
   "source": [
    "from sklearn.tree import DecisionTreeRegressor\n",
    "\n",
    "# Trees where the minimum sample split is only 2\n",
    "dtr_2 = DecisionTreeRegressor(random_state=RANDOM_STATE)\n",
    "dtr_2.fit(x_train, y_train)\n",
    "\n",
    "no_cat_dtr_2 = DecisionTreeRegressor(random_state=RANDOM_STATE)\n",
    "no_cat_dtr_2.fit(no_cat_x_train, no_cat_y_train)\n",
    "\n",
    "# Trees where the minimum sample split is 20\n",
    "dtr_20 = DecisionTreeRegressor(min_samples_split=20, random_state=RANDOM_STATE)\n",
    "dtr_20.fit(x_train, y_train)\n",
    "\n",
    "no_cat_dtr_20 = DecisionTreeRegressor(min_samples_split=20, random_state=RANDOM_STATE)\n",
    "no_cat_dtr_20.fit(no_cat_x_train, no_cat_y_train)"
   ]
  },
  {
   "cell_type": "code",
   "execution_count": 10,
   "metadata": {},
   "outputs": [],
   "source": [
    "dtr_2_y_pred = dtr_2.predict(x_test)\n",
    "dtr_20_y_pred = dtr_20.predict(x_test)\n",
    "\n",
    "no_cat_dtr_2_y_pred = no_cat_dtr_2.predict(no_cat_x_test)\n",
    "no_cat_dtr_20_y_pred = no_cat_dtr_20.predict(no_cat_x_test)"
   ]
  },
  {
   "cell_type": "code",
   "execution_count": null,
   "metadata": {},
   "outputs": [],
   "source": [
    "print(np.concatenate((dtr_2_y_pred.reshape(len(dtr_2_y_pred), 1),\n",
    "                      y_test.reshape(len(dtr_2_y_pred), 1)), 1))"
   ]
  },
  {
   "cell_type": "code",
   "execution_count": null,
   "metadata": {},
   "outputs": [],
   "source": [
    "print(np.concatenate((dtr_20_y_pred.reshape(len(dtr_20_y_pred), 1),\n",
    "                      y_test.reshape(len(dtr_20_y_pred), 1)), 1))"
   ]
  },
  {
   "cell_type": "code",
   "execution_count": null,
   "metadata": {},
   "outputs": [],
   "source": [
    "print(np.concatenate((no_cat_dtr_2_y_pred.reshape(len(no_cat_dtr_2_y_pred), 1),\n",
    "                      no_cat_y_test.reshape(len(no_cat_dtr_2_y_pred), 1)), 1))"
   ]
  },
  {
   "cell_type": "code",
   "execution_count": null,
   "metadata": {},
   "outputs": [],
   "source": [
    "print(np.concatenate((no_cat_dtr_20_y_pred.reshape(len(no_cat_dtr_20_y_pred), 1),\n",
    "                      no_cat_y_test.reshape(len(no_cat_dtr_20_y_pred), 1)), 1))"
   ]
  },
  {
   "attachments": {},
   "cell_type": "markdown",
   "metadata": {},
   "source": [
    "Random Forest Regression"
   ]
  },
  {
   "cell_type": "code",
   "execution_count": 15,
   "metadata": {},
   "outputs": [
    {
     "data": {
      "text/plain": [
       "RandomForestRegressor(random_state=0)"
      ]
     },
     "execution_count": 15,
     "metadata": {},
     "output_type": "execute_result"
    }
   ],
   "source": [
    "from sklearn.ensemble import RandomForestRegressor\n",
    "\n",
    "rfr = RandomForestRegressor(random_state=RANDOM_STATE)\n",
    "rfr.fit(x_train, y_train)\n",
    "\n",
    "no_cat_rfr = RandomForestRegressor(random_state=RANDOM_STATE)\n",
    "no_cat_rfr.fit(no_cat_x_train, no_cat_y_train)"
   ]
  },
  {
   "cell_type": "code",
   "execution_count": null,
   "metadata": {},
   "outputs": [],
   "source": [
    "rfr_y_pred = rfr.predict(x_test)\n",
    "no_cat_rfr_y_pred = no_cat_rfr.predict(no_cat_x_test)"
   ]
  },
  {
   "cell_type": "code",
   "execution_count": null,
   "metadata": {},
   "outputs": [],
   "source": [
    "print(np.concatenate((rfr_y_pred.reshape(len(rfr_y_pred), 1),\n",
    "                      y_test.reshape(len(rfr_y_pred), 1)), 1))"
   ]
  },
  {
   "cell_type": "code",
   "execution_count": null,
   "metadata": {},
   "outputs": [],
   "source": [
    "print(np.concatenate((no_cat_rfr_y_pred.reshape(len(no_cat_rfr_y_pred), 1),\n",
    "                      no_cat_y_test.reshape(len(no_cat_rfr_y_pred), 1)), 1))"
   ]
  },
  {
   "attachments": {},
   "cell_type": "markdown",
   "metadata": {},
   "source": [
    "Multiple Linear Regression"
   ]
  },
  {
   "cell_type": "code",
   "execution_count": 18,
   "metadata": {},
   "outputs": [
    {
     "data": {
      "text/plain": [
       "LinearRegression()"
      ]
     },
     "execution_count": 18,
     "metadata": {},
     "output_type": "execute_result"
    }
   ],
   "source": [
    "from sklearn.linear_model import LinearRegression\n",
    "\n",
    "lr = LinearRegression()\n",
    "lr.fit(x_train, y_train)\n",
    "\n",
    "no_cat_lr = LinearRegression()\n",
    "no_cat_lr.fit(no_cat_x_train, no_cat_y_train)"
   ]
  },
  {
   "cell_type": "code",
   "execution_count": null,
   "metadata": {},
   "outputs": [],
   "source": [
    "lr_y_pred = lr.predict(x_test)\n",
    "no_cat_lr_y_pred = no_cat_lr.predict(no_cat_x_test)"
   ]
  },
  {
   "cell_type": "code",
   "execution_count": null,
   "metadata": {},
   "outputs": [],
   "source": [
    "print(np.concatenate((lr_y_pred.reshape(len(lr_y_pred), 1),\n",
    "                      y_test.reshape(len(lr_y_pred), 1)), 1))"
   ]
  },
  {
   "cell_type": "code",
   "execution_count": null,
   "metadata": {},
   "outputs": [],
   "source": [
    "print(np.concatenate((no_cat_lr_y_pred.reshape(len(no_cat_lr_y_pred), 1),\n",
    "                      y_test.reshape(len(no_cat_lr_y_pred), 1)), 1))"
   ]
  },
  {
   "attachments": {},
   "cell_type": "markdown",
   "metadata": {},
   "source": [
    "Metrics"
   ]
  },
  {
   "cell_type": "code",
   "execution_count": 29,
   "metadata": {},
   "outputs": [
    {
     "name": "stdout",
     "output_type": "stream",
     "text": [
      "Ranked models based on r^2 score\n",
      "1) Model: no_cat_rfr\n",
      "\tr^2 score: 95.32%\n",
      "\tSum of Squared Residuals: 32433193.58\n",
      "2) Model: rfr\n",
      "\tr^2 score: 95.18%\n",
      "\tSum of Squared Residuals: 33363722.1\n",
      "3) Model: no_cat_dtr_20\n",
      "\tr^2 score: 94.38%\n",
      "\tSum of Squared Residuals: 38916698.99\n",
      "4) Model: dtr_20\n",
      "\tr^2 score: 94.37%\n",
      "\tSum of Squared Residuals: 38973886.77\n",
      "5) Model: no_cat_dtr_2\n",
      "\tr^2 score: 93.77%\n",
      "\tSum of Squared Residuals: 43186139.22\n",
      "6) Model: no_cat_lr\n",
      "\tr^2 score: 90.17%\n",
      "\tSum of Squared Residuals: 68132002.35\n",
      "7) Model: lr\n",
      "\tr^2 score: 78.49%\n",
      "\tSum of Squared Residuals: 149040477.81\n",
      "8) Model: dtr_2\n",
      "\tr^2 score: 76.94%\n",
      "\tSum of Squared Residuals: 159759543.58\n"
     ]
    }
   ],
   "source": [
    "from sklearn.metrics import r2_score, mean_squared_error\n",
    "\n",
    "scores: dict[str, tuple[float, float]] = {}\n",
    "\n",
    "# Scoring the x with categorical data\n",
    "cat_models = {'dtr_2': dtr_2, 'dtr_20': dtr_20, 'rfr': rfr, 'lr': lr}\n",
    "for key, model in cat_models.items():\n",
    "    predicted_y = model.predict(x_test)\n",
    "    r_squared = r2_score(y_test, predicted_y)\n",
    "    sum_of_squared_residuals = mean_squared_error(y_test, predicted_y)\n",
    "    scores[key] = (r_squared, sum_of_squared_residuals)\n",
    "\n",
    "# Scoring the x with categorical data\n",
    "no_cat_models = {'no_cat_dtr_2': no_cat_dtr_2, 'no_cat_dtr_20': no_cat_dtr_20, 'no_cat_rfr': no_cat_rfr, 'no_cat_lr': no_cat_lr}\n",
    "for key, model in no_cat_models.items():\n",
    "    predicted_y = model.predict(no_cat_x_test)\n",
    "    r_squared = r2_score(no_cat_y_test, predicted_y)\n",
    "    sum_of_squared_residuals = mean_squared_error(no_cat_y_test, predicted_y)\n",
    "    scores[key] = (r_squared, sum_of_squared_residuals)\n",
    "\n",
    "print('Ranked models based on r^2 score')\n",
    "for i, (key, (r_squared, ssr)) in enumerate(sorted(scores.items(), key=lambda tup: tup[1][0], reverse=True), start=1):\n",
    "    print(f'{i}) Model: {key}', f'r^2 score: {round(r_squared * 100, 2)}%', f'Sum of Squared Residuals: {round(ssr, 2)}', sep='\\n\\t')\n",
    "    print()"
   ]
  }
 ],
 "metadata": {
  "kernelspec": {
   "display_name": "base",
   "language": "python",
   "name": "python3"
  },
  "language_info": {
   "codemirror_mode": {
    "name": "ipython",
    "version": 3
   },
   "file_extension": ".py",
   "mimetype": "text/x-python",
   "name": "python",
   "nbconvert_exporter": "python",
   "pygments_lexer": "ipython3",
   "version": "3.9.13"
  },
  "orig_nbformat": 4
 },
 "nbformat": 4,
 "nbformat_minor": 2
}
