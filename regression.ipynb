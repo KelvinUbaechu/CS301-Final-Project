{
 "cells": [
  {
   "cell_type": "code",
   "execution_count": 1,
   "metadata": {},
   "outputs": [],
   "source": [
    "import numpy as np\n",
    "import pandas as pd\n",
    "\n",
    "RANDOM_STATE = 0"
   ]
  },
  {
   "attachments": {},
   "cell_type": "markdown",
   "metadata": {},
   "source": [
    "Data Cleaning"
   ]
  },
  {
   "cell_type": "code",
   "execution_count": 2,
   "metadata": {},
   "outputs": [],
   "source": [
    "data = pd.read_csv('output_file.csv', encoding='latin-1')\n",
    "\n",
    "# Converts columns from strings to integers\n",
    "int_cols = ['FY2021_retail_revenue', 'FY2021_parent_company/ group revenue', 'Geographies_of_operation']\n",
    "data[int_cols] = data[int_cols].replace(',', '', regex=True).apply(pd.to_numeric, errors='coerce')\n",
    "\n",
    "# Converts percentage strings to floats\n",
    "float_cols = ['FY2016- 2021_retail_revenueCAGR3', 'FY2020-2021_retail_revenue_growth', 'FY2021_Net_profit_margin']\n",
    "data[float_cols] = data[float_cols].replace('%', '', regex=True).apply(pd.to_numeric, errors='coerce') / 100.0\n",
    "\n",
    "# Strip whitespace from strings\n",
    "str_cols = ['Location', 'Dominant_operational_format']\n",
    "data[str_cols] = data[str_cols].apply(lambda x: x.str.strip())"
   ]
  },
  {
   "cell_type": "code",
   "execution_count": null,
   "metadata": {},
   "outputs": [],
   "source": [
    "data"
   ]
  },
  {
   "cell_type": "code",
   "execution_count": 3,
   "metadata": {},
   "outputs": [],
   "source": [
    "x = data.iloc[:, [2, 4, 5, 6, 7, 8, 9]].values\n",
    "\n",
    "# Dominant operational format column\n",
    "y = data.iloc[:, 3].values"
   ]
  },
  {
   "cell_type": "code",
   "execution_count": 26,
   "metadata": {},
   "outputs": [
    {
     "data": {
      "text/plain": [
       "14"
      ]
     },
     "execution_count": 26,
     "metadata": {},
     "output_type": "execute_result"
    }
   ],
   "source": [
    "len(data['Dominant_operational_format'].unique())"
   ]
  },
  {
   "cell_type": "code",
   "execution_count": 4,
   "metadata": {},
   "outputs": [],
   "source": [
    "from sklearn.impute import SimpleImputer\n",
    "imputer = SimpleImputer(missing_values=np.nan, strategy='mean')\n",
    "x[:, [1, 3, 4, 5, 6]] = imputer.fit_transform(x[:, [1, 3, 4, 5, 6]])"
   ]
  },
  {
   "cell_type": "code",
   "execution_count": 22,
   "metadata": {},
   "outputs": [
    {
     "data": {
      "text/plain": [
       "array([['United States', 572754.0, 'Hypermarket/ supercenter', ...,\n",
       "        0.033, 0.024, 0.024],\n",
       "       ['United States', 469822.0, 'Non-store', ..., 0.204, 0.12, 0.071],\n",
       "       ['United States', 195929.0, 'Cash & carry/ warehouse club', ...,\n",
       "        0.105, 0.175, 0.026000000000000002],\n",
       "       ...,\n",
       "       ['Japan', 4889.0, 'Discount department store', ..., 0.055,\n",
       "        0.044000000000000004, 0.04248947368421053],\n",
       "       ['Israel', 4561.0, 'Discount store', ..., 0.046, -0.031,\n",
       "        0.027000000000000003],\n",
       "       ['United Kingdom', 4478.0, 'Other specialty', ..., 0.158, 0.196,\n",
       "        0.095]], dtype=object)"
      ]
     },
     "execution_count": 22,
     "metadata": {},
     "output_type": "execute_result"
    }
   ],
   "source": [
    "x"
   ]
  },
  {
   "cell_type": "code",
   "execution_count": 5,
   "metadata": {},
   "outputs": [],
   "source": [
    "from sklearn.compose import ColumnTransformer\n",
    "from sklearn.preprocessing import OneHotEncoder\n",
    "\n",
    "ct = ColumnTransformer(transformers=[('encoder', OneHotEncoder(), [0, 2])], remainder='passthrough')\n",
    "x = ct.fit_transform(x).toarray()  # Encodes Location Column into 40 separate columns and the Dominant Operational Format into 14"
   ]
  },
  {
   "cell_type": "code",
   "execution_count": 6,
   "metadata": {},
   "outputs": [],
   "source": [
    "from sklearn.model_selection import train_test_split\n",
    "x_train, x_test, y_train, y_test = train_test_split(x, y, test_size=0.2, random_state=RANDOM_STATE)"
   ]
  },
  {
   "cell_type": "code",
   "execution_count": 7,
   "metadata": {},
   "outputs": [],
   "source": [
    "from sklearn.preprocessing import StandardScaler\n",
    "scaler = StandardScaler()\n",
    "\n",
    "x_train = scaler.fit_transform(x_train)\n",
    "x_test = scaler.transform(x_test)"
   ]
  },
  {
   "cell_type": "code",
   "execution_count": 8,
   "metadata": {},
   "outputs": [
    {
     "data": {
      "text/plain": [
       "DecisionTreeRegressor(min_samples_split=6, random_state=0)"
      ]
     },
     "execution_count": 8,
     "metadata": {},
     "output_type": "execute_result"
    }
   ],
   "source": [
    "from sklearn.tree import DecisionTreeRegressor\n",
    "dtr = DecisionTreeRegressor(min_samples_split=6, random_state=RANDOM_STATE)\n",
    "dtr.fit(x_train, y_train)"
   ]
  },
  {
   "cell_type": "code",
   "execution_count": 9,
   "metadata": {},
   "outputs": [
    {
     "name": "stdout",
     "output_type": "stream",
     "text": [
      "[[  5188.2    5233.  ]\n",
      " [  9902.8    9509.  ]\n",
      " [ 14522.8   13242.  ]\n",
      " [  8112.     7650.  ]\n",
      " [  8112.     7757.  ]\n",
      " [  8858.4    7372.  ]\n",
      " [  5491.     6151.  ]\n",
      " [ 14522.8   14500.  ]\n",
      " [ 19390.5   18089.  ]\n",
      " [ 11637.6    7718.  ]\n",
      " [  6299.5    5436.  ]\n",
      " [  5359.5    5150.  ]\n",
      " [ 11637.6   11200.  ]\n",
      " [  6385.5    6426.  ]\n",
      " [  9902.8   10039.  ]\n",
      " [ 17831.5   16488.  ]\n",
      " [  6385.5    5983.  ]\n",
      " [  7542.75   8204.  ]\n",
      " [  8112.     7859.  ]\n",
      " [ 12614.6   12731.  ]\n",
      " [  8112.     7664.  ]\n",
      " [  4606.    24793.  ]\n",
      " [  4948.75   4916.  ]\n",
      " [  9902.8   10700.  ]\n",
      " [  8034.5    7882.  ]\n",
      " [ 12231.5   13593.  ]\n",
      " [ 40645.   120947.  ]\n",
      " [ 19390.5   21000.  ]\n",
      " [  6385.5    6298.  ]\n",
      " [ 30128.75  30035.  ]\n",
      " [  6037.     5942.  ]\n",
      " [ 14522.8   14979.  ]\n",
      " [ 11637.6   10986.  ]\n",
      " [  6798.25   6773.  ]\n",
      " [  7164.5    7203.  ]\n",
      " [  7542.75   8500.  ]\n",
      " [  7560.     8891.  ]\n",
      " [ 98698.25 136971.  ]\n",
      " [ 48573.    48550.  ]\n",
      " [  8983.25   9242.  ]\n",
      " [  8749.     9690.  ]\n",
      " [ 73436.    89381.  ]\n",
      " [ 19390.5   11217.  ]\n",
      " [  6676.5    6694.  ]\n",
      " [ 12231.5   13708.  ]\n",
      " [ 12614.6   12709.  ]\n",
      " [  8262.     7313.  ]\n",
      " [  9662.    25527.  ]\n",
      " [ 17831.5   17637.  ]\n",
      " [  6510.25   6581.  ]]\n"
     ]
    }
   ],
   "source": [
    "dtr_y_pred = dtr.predict(x_test)\n",
    "print(np.concatenate((dtr_y_pred.reshape(len(dtr_y_pred), 1), y_test.reshape(len(dtr_y_pred), 1)), 1))"
   ]
  },
  {
   "cell_type": "code",
   "execution_count": 21,
   "metadata": {},
   "outputs": [
    {
     "data": {
      "text/plain": [
       "RandomForestRegressor(random_state=0)"
      ]
     },
     "execution_count": 21,
     "metadata": {},
     "output_type": "execute_result"
    }
   ],
   "source": [
    "from sklearn.ensemble import RandomForestRegressor\n",
    "\n",
    "rfr = RandomForestRegressor(random_state=RANDOM_STATE)\n",
    "rfr.fit(x_train, y_train)"
   ]
  },
  {
   "cell_type": "code",
   "execution_count": 22,
   "metadata": {},
   "outputs": [
    {
     "name": "stdout",
     "output_type": "stream",
     "text": [
      "[[  5243.73   5233.  ]\n",
      " [  9273.88   9509.  ]\n",
      " [ 13688.82  13242.  ]\n",
      " [  7336.17   7650.  ]\n",
      " [  7844.79   7757.  ]\n",
      " [  8098.6    7372.  ]\n",
      " [  5950.1    6151.  ]\n",
      " [ 14406.48  14500.  ]\n",
      " [ 19272.76  18089.  ]\n",
      " [ 10728.76   7718.  ]\n",
      " [  6314.36   5436.  ]\n",
      " [  5300.42   5150.  ]\n",
      " [ 11017.99  11200.  ]\n",
      " [  6342.86   6426.  ]\n",
      " [ 10145.81  10039.  ]\n",
      " [ 16821.74  16488.  ]\n",
      " [  6355.76   5983.  ]\n",
      " [  8475.71   8204.  ]\n",
      " [  7924.97   7859.  ]\n",
      " [ 12311.85  12731.  ]\n",
      " [  7764.09   7664.  ]\n",
      " [ 19408.2   24793.  ]\n",
      " [  4974.     4916.  ]\n",
      " [ 10289.06  10700.  ]\n",
      " [  7624.77   7882.  ]\n",
      " [ 12481.23  13593.  ]\n",
      " [110570.49 120947.  ]\n",
      " [ 19187.44  21000.  ]\n",
      " [  6388.38   6298.  ]\n",
      " [ 28829.43  30035.  ]\n",
      " [  5902.82   5942.  ]\n",
      " [ 14319.88  14979.  ]\n",
      " [ 10247.5   10986.  ]\n",
      " [  6580.9    6773.  ]\n",
      " [  7028.66   7203.  ]\n",
      " [  7978.8    8500.  ]\n",
      " [  8655.35   8891.  ]\n",
      " [101011.71 136971.  ]\n",
      " [ 43639.72  48550.  ]\n",
      " [  9025.77   9242.  ]\n",
      " [  9946.11   9690.  ]\n",
      " [ 80277.7   89381.  ]\n",
      " [ 18894.52  11217.  ]\n",
      " [  6581.37   6694.  ]\n",
      " [ 12811.6   13708.  ]\n",
      " [ 11887.3   12709.  ]\n",
      " [  8015.32   7313.  ]\n",
      " [ 18456.94  25527.  ]\n",
      " [ 17405.36  17637.  ]\n",
      " [  6424.12   6581.  ]]\n"
     ]
    }
   ],
   "source": [
    "rfr_y_pred = rfr.predict(x_test)\n",
    "print(np.concatenate((rfr_y_pred.reshape(len(rfr_y_pred), 1), y_test.reshape(len(rfr_y_pred), 1)), 1))"
   ]
  },
  {
   "attachments": {},
   "cell_type": "markdown",
   "metadata": {},
   "source": [
    "Metrics"
   ]
  },
  {
   "cell_type": "code",
   "execution_count": 23,
   "metadata": {},
   "outputs": [],
   "source": [
    "from sklearn.metrics import r2_score, mean_squared_error"
   ]
  },
  {
   "cell_type": "code",
   "execution_count": 24,
   "metadata": {},
   "outputs": [
    {
     "name": "stdout",
     "output_type": "stream",
     "text": [
      "r^2: 0.7421438764558577; sum of squared residuals: 178630763.76380002\n"
     ]
    }
   ],
   "source": [
    "# Decision Tree Regression Metrics\n",
    "\n",
    "dtr_r_squared = r2_score(y_test, dtr_y_pred)\n",
    "dtr_mean_squared_error = mean_squared_error(y_test, dtr_y_pred)\n",
    "\n",
    "print(f'r^2: {dtr_r_squared}; sum of squared residuals: {dtr_mean_squared_error}')"
   ]
  },
  {
   "cell_type": "code",
   "execution_count": null,
   "metadata": {},
   "outputs": [],
   "source": [
    "# Random Forest Regressor\n",
    "\n",
    "rfr_r_squared = r2_score(y_test, rfr_y_pred)\n",
    "rfr_mean_squared_error = mean_squared_error(y_test, rfr_y_pred)\n",
    "\n",
    "print(f'r^2: {rfr_r_squared}; sum of squared residuals: {rfr_mean_squared_error}')"
   ]
  }
 ],
 "metadata": {
  "kernelspec": {
   "display_name": "base",
   "language": "python",
   "name": "python3"
  },
  "language_info": {
   "codemirror_mode": {
    "name": "ipython",
    "version": 3
   },
   "file_extension": ".py",
   "mimetype": "text/x-python",
   "name": "python",
   "nbconvert_exporter": "python",
   "pygments_lexer": "ipython3",
   "version": "3.9.13"
  },
  "orig_nbformat": 4
 },
 "nbformat": 4,
 "nbformat_minor": 2
}
