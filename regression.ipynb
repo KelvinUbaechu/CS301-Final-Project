{
 "cells": [
  {
   "cell_type": "code",
   "execution_count": 1,
   "metadata": {},
   "outputs": [],
   "source": [
    "import numpy as np\n",
    "import pandas as pd\n",
    "\n",
    "RANDOM_STATE = 0\n",
    "\n",
    "np.set_printoptions(precision=2)"
   ]
  },
  {
   "attachments": {},
   "cell_type": "markdown",
   "metadata": {},
   "source": [
    "Data Cleaning and Preprocessing"
   ]
  },
  {
   "cell_type": "code",
   "execution_count": 34,
   "metadata": {},
   "outputs": [],
   "source": [
    "data = pd.read_csv('partially_cleaned_dataset.csv')\n",
    "\n",
    "# Converts columns from strings to floats\n",
    "int_cols = ['FY2021_retail_revenue', 'FY2021_parent_company/ group revenue', 'Geographies_of_operation']\n",
    "data[int_cols] = data[int_cols].apply(pd.to_numeric, errors='coerce')\n",
    "\n",
    "# Converts percentage strings to floats\n",
    "float_cols = ['FY2016- 2021_retail_revenueCAGR3', 'FY2020-2021_retail_revenue_growth', 'FY2021_Net_profit_margin']\n",
    "data[float_cols] = data[float_cols].replace('%', '', regex=True).apply(pd.to_numeric, errors='coerce') / 100.0"
   ]
  },
  {
   "cell_type": "code",
   "execution_count": 35,
   "metadata": {},
   "outputs": [
    {
     "data": {
      "text/html": [
       "<div>\n",
       "<style scoped>\n",
       "    .dataframe tbody tr th:only-of-type {\n",
       "        vertical-align: middle;\n",
       "    }\n",
       "\n",
       "    .dataframe tbody tr th {\n",
       "        vertical-align: top;\n",
       "    }\n",
       "\n",
       "    .dataframe thead th {\n",
       "        text-align: right;\n",
       "    }\n",
       "</style>\n",
       "<table border=\"1\" class=\"dataframe\">\n",
       "  <thead>\n",
       "    <tr style=\"text-align: right;\">\n",
       "      <th></th>\n",
       "      <th>Rank</th>\n",
       "      <th>Name of Company</th>\n",
       "      <th>Location</th>\n",
       "      <th>FY2021_retail_revenue</th>\n",
       "      <th>FY2021_parent_company/ group revenue</th>\n",
       "      <th>Dominant_operational_format</th>\n",
       "      <th>Geographies_of_operation</th>\n",
       "      <th>FY2016- 2021_retail_revenueCAGR3</th>\n",
       "      <th>FY2020-2021_retail_revenue_growth</th>\n",
       "      <th>FY2021_Net_profit_margin</th>\n",
       "    </tr>\n",
       "  </thead>\n",
       "  <tbody>\n",
       "    <tr>\n",
       "      <th>0</th>\n",
       "      <td>1</td>\n",
       "      <td>Walmart Inc</td>\n",
       "      <td>United States</td>\n",
       "      <td>572754</td>\n",
       "      <td>572754</td>\n",
       "      <td>Hypermarket/ supercenter</td>\n",
       "      <td>24</td>\n",
       "      <td>0.033</td>\n",
       "      <td>0.024</td>\n",
       "      <td>0.024</td>\n",
       "    </tr>\n",
       "    <tr>\n",
       "      <th>1</th>\n",
       "      <td>2</td>\n",
       "      <td>Amazon.com, Inc.</td>\n",
       "      <td>United States</td>\n",
       "      <td>239150</td>\n",
       "      <td>469822</td>\n",
       "      <td>Non-store</td>\n",
       "      <td>21</td>\n",
       "      <td>0.204</td>\n",
       "      <td>0.120</td>\n",
       "      <td>0.071</td>\n",
       "    </tr>\n",
       "    <tr>\n",
       "      <th>2</th>\n",
       "      <td>3</td>\n",
       "      <td>Costco Wholesale Corporation</td>\n",
       "      <td>United States</td>\n",
       "      <td>195929</td>\n",
       "      <td>195929</td>\n",
       "      <td>Cash &amp; carry/ warehouse club</td>\n",
       "      <td>12</td>\n",
       "      <td>0.105</td>\n",
       "      <td>0.175</td>\n",
       "      <td>0.026</td>\n",
       "    </tr>\n",
       "    <tr>\n",
       "      <th>3</th>\n",
       "      <td>4</td>\n",
       "      <td>Schwarz Group</td>\n",
       "      <td>Germany</td>\n",
       "      <td>153754</td>\n",
       "      <td>156209</td>\n",
       "      <td>Discount store</td>\n",
       "      <td>33</td>\n",
       "      <td>0.078</td>\n",
       "      <td>0.055</td>\n",
       "      <td>NaN</td>\n",
       "    </tr>\n",
       "    <tr>\n",
       "      <th>4</th>\n",
       "      <td>5</td>\n",
       "      <td>The Home Depot, Inc</td>\n",
       "      <td>United States</td>\n",
       "      <td>151157</td>\n",
       "      <td>151157</td>\n",
       "      <td>Home improvement</td>\n",
       "      <td>3</td>\n",
       "      <td>0.098</td>\n",
       "      <td>0.144</td>\n",
       "      <td>0.109</td>\n",
       "    </tr>\n",
       "    <tr>\n",
       "      <th>...</th>\n",
       "      <td>...</td>\n",
       "      <td>...</td>\n",
       "      <td>...</td>\n",
       "      <td>...</td>\n",
       "      <td>...</td>\n",
       "      <td>...</td>\n",
       "      <td>...</td>\n",
       "      <td>...</td>\n",
       "      <td>...</td>\n",
       "      <td>...</td>\n",
       "    </tr>\n",
       "    <tr>\n",
       "      <th>245</th>\n",
       "      <td>246</td>\n",
       "      <td>EG Group Limited</td>\n",
       "      <td>United Kingdom</td>\n",
       "      <td>4606</td>\n",
       "      <td>26420</td>\n",
       "      <td>Convenience/ forecourt store</td>\n",
       "      <td>10</td>\n",
       "      <td>0.751</td>\n",
       "      <td>0.043</td>\n",
       "      <td>NaN</td>\n",
       "    </tr>\n",
       "    <tr>\n",
       "      <th>246</th>\n",
       "      <td>247</td>\n",
       "      <td>Yaoko Co., Ltd.</td>\n",
       "      <td>Japan</td>\n",
       "      <td>4575</td>\n",
       "      <td>4771</td>\n",
       "      <td>Supermarket</td>\n",
       "      <td>1</td>\n",
       "      <td>0.094</td>\n",
       "      <td>0.055</td>\n",
       "      <td>0.029</td>\n",
       "    </tr>\n",
       "    <tr>\n",
       "      <th>247</th>\n",
       "      <td>248</td>\n",
       "      <td>Daiso Industries Co., Ltd</td>\n",
       "      <td>Japan</td>\n",
       "      <td>4546</td>\n",
       "      <td>4889</td>\n",
       "      <td>Discount department store</td>\n",
       "      <td>26</td>\n",
       "      <td>0.055</td>\n",
       "      <td>0.044</td>\n",
       "      <td>NaN</td>\n",
       "    </tr>\n",
       "    <tr>\n",
       "      <th>248</th>\n",
       "      <td>249</td>\n",
       "      <td>Shufersal Ltd.</td>\n",
       "      <td>Israel</td>\n",
       "      <td>4544</td>\n",
       "      <td>4561</td>\n",
       "      <td>Discount store</td>\n",
       "      <td>1</td>\n",
       "      <td>0.046</td>\n",
       "      <td>-0.031</td>\n",
       "      <td>0.027</td>\n",
       "    </tr>\n",
       "    <tr>\n",
       "      <th>249</th>\n",
       "      <td>250</td>\n",
       "      <td>T. J. Morris dba Home Bargains</td>\n",
       "      <td>United Kingdom</td>\n",
       "      <td>4478</td>\n",
       "      <td>4478</td>\n",
       "      <td>Other specialty</td>\n",
       "      <td>1</td>\n",
       "      <td>0.158</td>\n",
       "      <td>0.196</td>\n",
       "      <td>0.095</td>\n",
       "    </tr>\n",
       "  </tbody>\n",
       "</table>\n",
       "<p>250 rows × 10 columns</p>\n",
       "</div>"
      ],
      "text/plain": [
       "     Rank                 Name of Company        Location  \\\n",
       "0       1                     Walmart Inc   United States   \n",
       "1       2                Amazon.com, Inc.   United States   \n",
       "2       3    Costco Wholesale Corporation   United States   \n",
       "3       4                   Schwarz Group         Germany   \n",
       "4       5             The Home Depot, Inc   United States   \n",
       "..    ...                             ...             ...   \n",
       "245   246                EG Group Limited  United Kingdom   \n",
       "246   247                 Yaoko Co., Ltd.           Japan   \n",
       "247   248       Daiso Industries Co., Ltd           Japan   \n",
       "248   249                  Shufersal Ltd.          Israel   \n",
       "249   250  T. J. Morris dba Home Bargains  United Kingdom   \n",
       "\n",
       "     FY2021_retail_revenue  FY2021_parent_company/ group revenue  \\\n",
       "0                   572754                                572754   \n",
       "1                   239150                                469822   \n",
       "2                   195929                                195929   \n",
       "3                   153754                                156209   \n",
       "4                   151157                                151157   \n",
       "..                     ...                                   ...   \n",
       "245                   4606                                 26420   \n",
       "246                   4575                                  4771   \n",
       "247                   4546                                  4889   \n",
       "248                   4544                                  4561   \n",
       "249                   4478                                  4478   \n",
       "\n",
       "      Dominant_operational_format  Geographies_of_operation  \\\n",
       "0        Hypermarket/ supercenter                        24   \n",
       "1                       Non-store                        21   \n",
       "2    Cash & carry/ warehouse club                        12   \n",
       "3                  Discount store                        33   \n",
       "4                Home improvement                         3   \n",
       "..                            ...                       ...   \n",
       "245  Convenience/ forecourt store                        10   \n",
       "246                   Supermarket                         1   \n",
       "247     Discount department store                        26   \n",
       "248                Discount store                         1   \n",
       "249               Other specialty                         1   \n",
       "\n",
       "     FY2016- 2021_retail_revenueCAGR3  FY2020-2021_retail_revenue_growth  \\\n",
       "0                               0.033                              0.024   \n",
       "1                               0.204                              0.120   \n",
       "2                               0.105                              0.175   \n",
       "3                               0.078                              0.055   \n",
       "4                               0.098                              0.144   \n",
       "..                                ...                                ...   \n",
       "245                             0.751                              0.043   \n",
       "246                             0.094                              0.055   \n",
       "247                             0.055                              0.044   \n",
       "248                             0.046                             -0.031   \n",
       "249                             0.158                              0.196   \n",
       "\n",
       "     FY2021_Net_profit_margin  \n",
       "0                       0.024  \n",
       "1                       0.071  \n",
       "2                       0.026  \n",
       "3                         NaN  \n",
       "4                       0.109  \n",
       "..                        ...  \n",
       "245                       NaN  \n",
       "246                     0.029  \n",
       "247                       NaN  \n",
       "248                     0.027  \n",
       "249                     0.095  \n",
       "\n",
       "[250 rows x 10 columns]"
      ]
     },
     "execution_count": 35,
     "metadata": {},
     "output_type": "execute_result"
    }
   ],
   "source": [
    "data"
   ]
  },
  {
   "cell_type": "code",
   "execution_count": 3,
   "metadata": {},
   "outputs": [],
   "source": [
    "# All columns except Rank, Name of Company, and FY2021_retail_revenue\n",
    "x = data.iloc[:, [2, 4, 5, 6, 7, 8, 9]].values\n",
    "\n",
    "# All columns in `x` except for Location and Dominant_operational_format\n",
    "# (No categorical data)\n",
    "no_cat_x = data.iloc[:, [4, 6, 7, 8, 9]].values\n",
    "\n",
    "# FY2021_retail_revenue column\n",
    "y = data.iloc[:, 3].values"
   ]
  },
  {
   "attachments": {},
   "cell_type": "markdown",
   "metadata": {},
   "source": [
    "Filling in Missing Data"
   ]
  },
  {
   "cell_type": "code",
   "execution_count": 5,
   "metadata": {},
   "outputs": [],
   "source": [
    "from sklearn.impute import SimpleImputer\n",
    "\n",
    "imputer = SimpleImputer(missing_values=np.nan, strategy='mean')\n",
    "# Apply imputer to all features except Location and Geographies of Operation\n",
    "x[:, [1, 3, 4, 5, 6]] = imputer.fit_transform(x[:, [1, 3, 4, 5, 6]])\n",
    "\n",
    "# All features can have a mean because there are no categorical variables in `no_cat_x`\n",
    "no_cat_x = imputer.fit_transform(no_cat_x)"
   ]
  },
  {
   "attachments": {},
   "cell_type": "markdown",
   "metadata": {},
   "source": [
    "Encode the Categorical Variables"
   ]
  },
  {
   "cell_type": "code",
   "execution_count": 6,
   "metadata": {},
   "outputs": [],
   "source": [
    "from sklearn.compose import ColumnTransformer\n",
    "from sklearn.preprocessing import OneHotEncoder\n",
    "\n",
    "# Will encode the Location Column into 40 separate columns and the Dominant Operational Format into 14\n",
    "ct = ColumnTransformer(transformers=[('encoder', OneHotEncoder(), [0, 2])], remainder='passthrough')\n",
    "x = ct.fit_transform(x).toarray()\n",
    "\n",
    "# `no_cat_x` doesn't need to go through this step because it has no categorical variables"
   ]
  },
  {
   "cell_type": "code",
   "execution_count": 7,
   "metadata": {},
   "outputs": [],
   "source": [
    "from sklearn.model_selection import train_test_split\n",
    "x_train, x_test, y_train, y_test = train_test_split(x, y, test_size=0.2, random_state=RANDOM_STATE)\n",
    "\n",
    "# `y` is shared between `x` and `no_cat_x`, but their testing sets are different, so `no_cat_x`\n",
    "# will have a seperate `y_train` and `y_test`\n",
    "no_cat_x_train, no_cat_x_test, no_cat_y_train, no_cat_y_test = train_test_split(no_cat_x, y, test_size=0.2, random_state=RANDOM_STATE)"
   ]
  },
  {
   "cell_type": "code",
   "execution_count": 8,
   "metadata": {},
   "outputs": [],
   "source": [
    "from sklearn.preprocessing import StandardScaler\n",
    "scaler = StandardScaler()\n",
    "\n",
    "x_train = scaler.fit_transform(x_train)\n",
    "x_test = scaler.transform(x_test)\n",
    "\n",
    "no_cat_x_train = scaler.fit_transform(no_cat_x_train)\n",
    "no_cat_x_test = scaler.transform(no_cat_x_test)"
   ]
  },
  {
   "attachments": {},
   "cell_type": "markdown",
   "metadata": {},
   "source": [
    "Decision Tree Regression"
   ]
  },
  {
   "cell_type": "code",
   "execution_count": 9,
   "metadata": {},
   "outputs": [
    {
     "data": {
      "text/plain": [
       "DecisionTreeRegressor(min_samples_split=20, random_state=0)"
      ]
     },
     "execution_count": 9,
     "metadata": {},
     "output_type": "execute_result"
    }
   ],
   "source": [
    "from sklearn.tree import DecisionTreeRegressor\n",
    "\n",
    "# Trees where the minimum sample split is only 2\n",
    "dtr_2 = DecisionTreeRegressor(random_state=RANDOM_STATE)\n",
    "dtr_2.fit(x_train, y_train)\n",
    "\n",
    "no_cat_dtr_2 = DecisionTreeRegressor(random_state=RANDOM_STATE)\n",
    "no_cat_dtr_2.fit(no_cat_x_train, no_cat_y_train)\n",
    "\n",
    "# Trees where the minimum sample split is 20\n",
    "dtr_20 = DecisionTreeRegressor(min_samples_split=20, random_state=RANDOM_STATE)\n",
    "dtr_20.fit(x_train, y_train)\n",
    "\n",
    "no_cat_dtr_20 = DecisionTreeRegressor(min_samples_split=20, random_state=RANDOM_STATE)\n",
    "no_cat_dtr_20.fit(no_cat_x_train, no_cat_y_train)"
   ]
  },
  {
   "cell_type": "code",
   "execution_count": 10,
   "metadata": {},
   "outputs": [],
   "source": [
    "dtr_2_y_pred = dtr_2.predict(x_test)\n",
    "dtr_20_y_pred = dtr_20.predict(x_test)\n",
    "\n",
    "no_cat_dtr_2_y_pred = no_cat_dtr_2.predict(no_cat_x_test)\n",
    "no_cat_dtr_20_y_pred = no_cat_dtr_20.predict(no_cat_x_test)"
   ]
  },
  {
   "cell_type": "code",
   "execution_count": null,
   "metadata": {},
   "outputs": [],
   "source": [
    "print(np.concatenate((dtr_2_y_pred.reshape(len(dtr_2_y_pred), 1),\n",
    "                      y_test.reshape(len(dtr_2_y_pred), 1)), 1))"
   ]
  },
  {
   "cell_type": "code",
   "execution_count": null,
   "metadata": {},
   "outputs": [],
   "source": [
    "print(np.concatenate((dtr_20_y_pred.reshape(len(dtr_20_y_pred), 1),\n",
    "                      y_test.reshape(len(dtr_20_y_pred), 1)), 1))"
   ]
  },
  {
   "cell_type": "code",
   "execution_count": null,
   "metadata": {},
   "outputs": [],
   "source": [
    "print(np.concatenate((no_cat_dtr_2_y_pred.reshape(len(no_cat_dtr_2_y_pred), 1),\n",
    "                      no_cat_y_test.reshape(len(no_cat_dtr_2_y_pred), 1)), 1))"
   ]
  },
  {
   "cell_type": "code",
   "execution_count": null,
   "metadata": {},
   "outputs": [],
   "source": [
    "print(np.concatenate((no_cat_dtr_20_y_pred.reshape(len(no_cat_dtr_20_y_pred), 1),\n",
    "                      no_cat_y_test.reshape(len(no_cat_dtr_20_y_pred), 1)), 1))"
   ]
  },
  {
   "attachments": {},
   "cell_type": "markdown",
   "metadata": {},
   "source": [
    "Random Forest Regression"
   ]
  },
  {
   "cell_type": "code",
   "execution_count": 15,
   "metadata": {},
   "outputs": [
    {
     "data": {
      "text/plain": [
       "RandomForestRegressor(random_state=0)"
      ]
     },
     "execution_count": 15,
     "metadata": {},
     "output_type": "execute_result"
    }
   ],
   "source": [
    "from sklearn.ensemble import RandomForestRegressor\n",
    "\n",
    "rfr = RandomForestRegressor(random_state=RANDOM_STATE)\n",
    "rfr.fit(x_train, y_train)\n",
    "\n",
    "no_cat_rfr = RandomForestRegressor(random_state=RANDOM_STATE)\n",
    "no_cat_rfr.fit(no_cat_x_train, no_cat_y_train)"
   ]
  },
  {
   "cell_type": "code",
   "execution_count": null,
   "metadata": {},
   "outputs": [],
   "source": [
    "rfr_y_pred = rfr.predict(x_test)\n",
    "no_cat_rfr_y_pred = no_cat_rfr.predict(no_cat_x_test)"
   ]
  },
  {
   "cell_type": "code",
   "execution_count": null,
   "metadata": {},
   "outputs": [],
   "source": [
    "print(np.concatenate((rfr_y_pred.reshape(len(rfr_y_pred), 1),\n",
    "                      y_test.reshape(len(rfr_y_pred), 1)), 1))"
   ]
  },
  {
   "cell_type": "code",
   "execution_count": null,
   "metadata": {},
   "outputs": [],
   "source": [
    "print(np.concatenate((no_cat_rfr_y_pred.reshape(len(no_cat_rfr_y_pred), 1),\n",
    "                      no_cat_y_test.reshape(len(no_cat_rfr_y_pred), 1)), 1))"
   ]
  },
  {
   "attachments": {},
   "cell_type": "markdown",
   "metadata": {},
   "source": [
    "Multiple Linear Regression"
   ]
  },
  {
   "cell_type": "code",
   "execution_count": 18,
   "metadata": {},
   "outputs": [
    {
     "data": {
      "text/plain": [
       "LinearRegression()"
      ]
     },
     "execution_count": 18,
     "metadata": {},
     "output_type": "execute_result"
    }
   ],
   "source": [
    "from sklearn.linear_model import LinearRegression\n",
    "\n",
    "lr = LinearRegression()\n",
    "lr.fit(x_train, y_train)\n",
    "\n",
    "no_cat_lr = LinearRegression()\n",
    "no_cat_lr.fit(no_cat_x_train, no_cat_y_train)"
   ]
  },
  {
   "cell_type": "code",
   "execution_count": null,
   "metadata": {},
   "outputs": [],
   "source": [
    "lr_y_pred = lr.predict(x_test)\n",
    "no_cat_lr_y_pred = no_cat_lr.predict(no_cat_x_test)"
   ]
  },
  {
   "cell_type": "code",
   "execution_count": null,
   "metadata": {},
   "outputs": [],
   "source": [
    "print(np.concatenate((lr_y_pred.reshape(len(lr_y_pred), 1),\n",
    "                      y_test.reshape(len(lr_y_pred), 1)), 1))"
   ]
  },
  {
   "cell_type": "code",
   "execution_count": null,
   "metadata": {},
   "outputs": [],
   "source": [
    "print(np.concatenate((no_cat_lr_y_pred.reshape(len(no_cat_lr_y_pred), 1),\n",
    "                      y_test.reshape(len(no_cat_lr_y_pred), 1)), 1))"
   ]
  },
  {
   "attachments": {},
   "cell_type": "markdown",
   "metadata": {},
   "source": [
    "Metrics"
   ]
  },
  {
   "cell_type": "code",
   "execution_count": 31,
   "metadata": {},
   "outputs": [
    {
     "name": "stdout",
     "output_type": "stream",
     "text": [
      "Ranked models based on r^2 score\n",
      "1) Model: Random Forest Regression w/o Categorical Variables\n",
      "\tr^2 score: 95.32%\n",
      "\tSum of Squared Residuals: 32433193.58\n",
      "\n",
      "2) Model: Random Forest Regression\n",
      "\tr^2 score: 95.18%\n",
      "\tSum of Squared Residuals: 33363722.1\n",
      "\n",
      "3) Model: Decision Tree Regression with Minimum Sample Split of 20 w/o Categorical Variables\n",
      "\tr^2 score: 94.38%\n",
      "\tSum of Squared Residuals: 38916698.99\n",
      "\n",
      "4) Model: Decision Tree Regression with Minimum Sample Split of 20\n",
      "\tr^2 score: 94.37%\n",
      "\tSum of Squared Residuals: 38973886.77\n",
      "\n",
      "5) Model: Decision Tree Regression with Minimum Sample Split of 2 w/o Categorical Variables\n",
      "\tr^2 score: 93.77%\n",
      "\tSum of Squared Residuals: 43186139.22\n",
      "\n",
      "6) Model: Linear Regression w/o Categorical Variables\n",
      "\tr^2 score: 90.17%\n",
      "\tSum of Squared Residuals: 68132002.35\n",
      "\n",
      "7) Model: Multiple Linear Regression\n",
      "\tr^2 score: 78.49%\n",
      "\tSum of Squared Residuals: 149040477.81\n",
      "\n",
      "8) Model: Decision Tree Regression with Minimum Sample Split of 2\n",
      "\tr^2 score: 76.94%\n",
      "\tSum of Squared Residuals: 159759543.58\n",
      "\n"
     ]
    }
   ],
   "source": [
    "from sklearn.metrics import r2_score, mean_squared_error\n",
    "\n",
    "scores: dict[str, tuple[float, float]] = {}\n",
    "\n",
    "# Scoring the x with categorical data\n",
    "cat_models = {\n",
    "    'Decision Tree Regression with Minimum Sample Split of 2': dtr_2,\n",
    "    'Decision Tree Regression with Minimum Sample Split of 20': dtr_20,\n",
    "    'Random Forest Regression': rfr,\n",
    "    'Multiple Linear Regression': lr\n",
    "}\n",
    "for key, model in cat_models.items():\n",
    "    predicted_y = model.predict(x_test)\n",
    "    r_squared = r2_score(y_test, predicted_y)\n",
    "    sum_of_squared_residuals = mean_squared_error(y_test, predicted_y)\n",
    "    scores[key] = (r_squared, sum_of_squared_residuals)\n",
    "\n",
    "# Scoring the x with categorical data\n",
    "no_cat_models = {\n",
    "    'Decision Tree Regression with Minimum Sample Split of 2 w/o Categorical Variables': no_cat_dtr_2,\n",
    "    'Decision Tree Regression with Minimum Sample Split of 20 w/o Categorical Variables': no_cat_dtr_20,\n",
    "    'Random Forest Regression w/o Categorical Variables': no_cat_rfr,\n",
    "    'Multiple Linear Regression w/o Categorical Variables': no_cat_lr\n",
    "}\n",
    "for key, model in no_cat_models.items():\n",
    "    predicted_y = model.predict(no_cat_x_test)\n",
    "    r_squared = r2_score(no_cat_y_test, predicted_y)\n",
    "    sum_of_squared_residuals = mean_squared_error(no_cat_y_test, predicted_y)\n",
    "    scores[key] = (r_squared, sum_of_squared_residuals)\n",
    "\n",
    "print('Ranked models based on r^2 score')\n",
    "for i, (key, (r_squared, ssr)) in enumerate(sorted(scores.items(), key=lambda tup: tup[1][0], reverse=True), start=1):\n",
    "    print(f'{i}) Model: {key}', f'r^2 score: {round(r_squared * 100, 2)}%', f'Sum of Squared Residuals: {round(ssr, 2)}', sep='\\n\\t')\n",
    "    print()"
   ]
  }
 ],
 "metadata": {
  "kernelspec": {
   "display_name": "base",
   "language": "python",
   "name": "python3"
  },
  "language_info": {
   "codemirror_mode": {
    "name": "ipython",
    "version": 3
   },
   "file_extension": ".py",
   "mimetype": "text/x-python",
   "name": "python",
   "nbconvert_exporter": "python",
   "pygments_lexer": "ipython3",
   "version": "3.9.13"
  },
  "orig_nbformat": 4
 },
 "nbformat": 4,
 "nbformat_minor": 2
}
